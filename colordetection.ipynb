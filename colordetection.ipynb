{
 "cells": [
  {
   "cell_type": "code",
   "execution_count": null,
   "id": "33bb02ad-caab-4b0b-b423-f0fd26355f43",
   "metadata": {},
   "outputs": [],
   "source": [
    "import cv2"
   ]
  },
  {
   "cell_type": "code",
   "execution_count": null,
   "id": "cc1b24be-c5cd-401a-a2c0-64def92c3ca4",
   "metadata": {},
   "outputs": [],
   "source": [
    "import pandas as pd"
   ]
  },
  {
   "cell_type": "code",
   "execution_count": null,
   "id": "f6869d0c-b2ca-4b86-94bf-90b075fc9089",
   "metadata": {},
   "outputs": [],
   "source": [
    "import numpy as np"
   ]
  },
  {
   "cell_type": "code",
   "execution_count": null,
   "id": "b4860e88-f230-418b-aa97-e839c7746c6a",
   "metadata": {},
   "outputs": [],
   "source": [
    "img = cv2.imread(r\"C:\\Users\\KIIT\\Downloads\\color detection\\download.jpeg\")\n",
    "imgWidth = img.shape[1] - 40"
   ]
  },
  {
   "cell_type": "code",
   "execution_count": null,
   "id": "d3e006ea-04ef-4da1-b3be-8d11ee584f7f",
   "metadata": {},
   "outputs": [],
   "source": [
    "index = ['color', 'color_name', 'hex', 'R', 'G', 'B']\n",
    "df = pd.read_csv(r\"C:\\Users\\KIIT\\Downloads\\color detection\\colors.csv\", header=None, names=index)"
   ]
  },
  {
   "cell_type": "code",
   "execution_count": null,
   "id": "2709e0e7-2641-4196-b425-3e02a8eab887",
   "metadata": {},
   "outputs": [],
   "source": [
    "r = g = b = xpos = ypos = 0"
   ]
  },
  {
   "cell_type": "code",
   "execution_count": null,
   "id": "a55e404c-a074-450a-99d0-bd02db40c761",
   "metadata": {},
   "outputs": [],
   "source": [
    "def getRGBvalue(event, x, y, flags, param):\n",
    "    global b, g, r, xpos, ypos, clicked\n",
    "    xpos = x\n",
    "    ypos = y\n",
    "    b,g,r = img[y,x]\n",
    "    b = int(b)\n",
    "    g = int(g)\n",
    "    r = int(r)"
   ]
  },
  {
   "cell_type": "code",
   "execution_count": null,
   "id": "e3541b8c-0cc8-4ff5-a8cc-7e799c30c8f1",
   "metadata": {},
   "outputs": [],
   "source": [
    "def colorname(B,G,R):\n",
    "    minimum = 10000\n",
    "    for i in range(len(df)):\n",
    "        d = abs(B-int(df.loc[i,\"B\"])) + abs(G-int(df.loc[i,\"G\"])) + abs(R-int(df.loc[i,\"R\"]))\n",
    "        if (d<=minimum):\n",
    "            minimum = d\n",
    "            cname = df.loc[i,\"color_name\"] + \"Hex\" + df.loc[i, \"hex\"]\n",
    "    return cname"
   ]
  },
  {
   "cell_type": "code",
   "execution_count": null,
   "id": "2b49e13d-9add-456b-a4fd-33be0be8b8b1",
   "metadata": {},
   "outputs": [],
   "source": [
    "cv2.namedWindow(\"Image\")\n",
    "cv2.setMouseCallback(\"Image\",getRGBvalue)"
   ]
  },
  {
   "cell_type": "code",
   "execution_count": null,
   "id": "920a055d-a604-4c50-bcb8-3996447e1d2f",
   "metadata": {},
   "outputs": [],
   "source": [
    "while True:\n",
    "    cv2.imshow(\"Image\", img)\n",
    "    cv2.rectangle(img, (20,20), (imgWidth, 60),(b,g,r), -1)\n",
    "    text = colorname(b,g,r) + '   R=' + str(r) + ' G=' + str(g) + ' B=' + str(b)\n",
    "    cv2.putText(img,text, (50,50),2, 0.8, (255,255,255),2,cv2.LINE_AA)    \n",
    "    if(r+g+b >= 600):\n",
    "        cv2.putText(img,text,(50,50), 2, 0.8, (0,0,0),2,cv2.LINE_AA)   \n",
    "    if cv2.waitKey(20) & 0xFF == 27:\n",
    "        break"
   ]
  },
  {
   "cell_type": "code",
   "execution_count": null,
   "id": "5018e438-dc36-4c83-815b-911804d63ee9",
   "metadata": {},
   "outputs": [],
   "source": [
    "cv2.destroyAllWindows()"
   ]
  },
  {
   "cell_type": "code",
   "execution_count": null,
   "id": "5a38f742-b9a4-4f2e-9331-2416125592fd",
   "metadata": {},
   "outputs": [],
   "source": []
  }
 ],
 "metadata": {
  "kernelspec": {
   "display_name": "Python [conda env:base] *",
   "language": "python",
   "name": "conda-base-py"
  },
  "language_info": {
   "codemirror_mode": {
    "name": "ipython",
    "version": 3
   },
   "file_extension": ".py",
   "mimetype": "text/x-python",
   "name": "python",
   "nbconvert_exporter": "python",
   "pygments_lexer": "ipython3",
   "version": "3.12.7"
  }
 },
 "nbformat": 4,
 "nbformat_minor": 5
}
